{
 "cells": [
  {
   "cell_type": "code",
   "execution_count": 1,
   "metadata": {
    "_cell_guid": "b1076dfc-b9ad-4769-8c92-a6c4dae69d19",
    "_uuid": "8f2839f25d086af736a60e9eeb907d3b93b6e0e5",
    "execution": {
     "iopub.execute_input": "2021-03-17T19:31:35.975326Z",
     "iopub.status.busy": "2021-03-17T19:31:35.974569Z",
     "iopub.status.idle": "2021-03-17T19:31:42.072492Z",
     "shell.execute_reply": "2021-03-17T19:31:42.071724Z"
    },
    "papermill": {
     "duration": 6.123266,
     "end_time": "2021-03-17T19:31:42.072714",
     "exception": false,
     "start_time": "2021-03-17T19:31:35.949448",
     "status": "completed"
    },
    "tags": []
   },
   "outputs": [],
   "source": [
    "from tensorflow.keras.applications.resnet import preprocess_input \n",
    "from sklearn.model_selection import train_test_split\n",
    "import matplotlib.pyplot as plt\n",
    "import tensorflow as tf\n",
    "import pandas as pd\n",
    "import numpy as np"
   ]
  },
  {
   "cell_type": "markdown",
   "metadata": {
    "papermill": {
     "duration": 0.017337,
     "end_time": "2021-03-17T19:31:42.109234",
     "exception": false,
     "start_time": "2021-03-17T19:31:42.091897",
     "status": "completed"
    },
    "tags": []
   },
   "source": [
    "### Loading the names and labels csv file"
   ]
  },
  {
   "cell_type": "code",
   "execution_count": 2,
   "metadata": {
    "execution": {
     "iopub.execute_input": "2021-03-17T19:31:42.150089Z",
     "iopub.status.busy": "2021-03-17T19:31:42.149442Z",
     "iopub.status.idle": "2021-03-17T19:31:42.176791Z",
     "shell.execute_reply": "2021-03-17T19:31:42.176310Z"
    },
    "papermill": {
     "duration": 0.049441,
     "end_time": "2021-03-17T19:31:42.176924",
     "exception": false,
     "start_time": "2021-03-17T19:31:42.127483",
     "status": "completed"
    },
    "tags": []
   },
   "outputs": [],
   "source": [
    "train_df = pd.read_csv('../input/dog-breed-identification/labels.csv')"
   ]
  },
  {
   "cell_type": "markdown",
   "metadata": {
    "papermill": {
     "duration": 0.01733,
     "end_time": "2021-03-17T19:31:42.212273",
     "exception": false,
     "start_time": "2021-03-17T19:31:42.194943",
     "status": "completed"
    },
    "tags": []
   },
   "source": [
    "### Retaining only the required 10 breeds"
   ]
  },
  {
   "cell_type": "code",
   "execution_count": 3,
   "metadata": {
    "execution": {
     "iopub.execute_input": "2021-03-17T19:31:42.278647Z",
     "iopub.status.busy": "2021-03-17T19:31:42.274317Z",
     "iopub.status.idle": "2021-03-17T19:31:42.281107Z",
     "shell.execute_reply": "2021-03-17T19:31:42.280681Z"
    },
    "papermill": {
     "duration": 0.051408,
     "end_time": "2021-03-17T19:31:42.281233",
     "exception": false,
     "start_time": "2021-03-17T19:31:42.229825",
     "status": "completed"
    },
    "tags": []
   },
   "outputs": [],
   "source": [
    "train_df = train_df.loc[(train_df.breed == 'beagle') | (train_df.breed == 'doberman') | (train_df.breed == 'chihuahua') | (train_df.breed == 'french_bulldog') | (train_df.breed == 'golden_retriever') | (train_df.breed == 'malamute') | (train_df.breed == 'pug') | (train_df.breed == 'saint_bernard') | (train_df.breed == 'scottish_deerhound') | (train_df.breed == 'tibetan_mastiff')].reset_index(drop=True)"
   ]
  },
  {
   "cell_type": "code",
   "execution_count": 4,
   "metadata": {
    "execution": {
     "iopub.execute_input": "2021-03-17T19:31:42.328586Z",
     "iopub.status.busy": "2021-03-17T19:31:42.328005Z",
     "iopub.status.idle": "2021-03-17T19:31:42.340530Z",
     "shell.execute_reply": "2021-03-17T19:31:42.340018Z"
    },
    "papermill": {
     "duration": 0.041199,
     "end_time": "2021-03-17T19:31:42.340675",
     "exception": false,
     "start_time": "2021-03-17T19:31:42.299476",
     "status": "completed"
    },
    "tags": []
   },
   "outputs": [
    {
     "data": {
      "text/html": [
       "<div>\n",
       "<style scoped>\n",
       "    .dataframe tbody tr th:only-of-type {\n",
       "        vertical-align: middle;\n",
       "    }\n",
       "\n",
       "    .dataframe tbody tr th {\n",
       "        vertical-align: top;\n",
       "    }\n",
       "\n",
       "    .dataframe thead th {\n",
       "        text-align: right;\n",
       "    }\n",
       "</style>\n",
       "<table border=\"1\" class=\"dataframe\">\n",
       "  <thead>\n",
       "    <tr style=\"text-align: right;\">\n",
       "      <th></th>\n",
       "      <th>id</th>\n",
       "      <th>breed</th>\n",
       "    </tr>\n",
       "  </thead>\n",
       "  <tbody>\n",
       "    <tr>\n",
       "      <th>0</th>\n",
       "      <td>0021f9ceb3235effd7fcde7f7538ed62</td>\n",
       "      <td>golden_retriever</td>\n",
       "    </tr>\n",
       "    <tr>\n",
       "      <th>1</th>\n",
       "      <td>0042188c895a2f14ef64a918ed9c7b64</td>\n",
       "      <td>scottish_deerhound</td>\n",
       "    </tr>\n",
       "    <tr>\n",
       "      <th>2</th>\n",
       "      <td>008b1271ed1addaccf93783b39deab45</td>\n",
       "      <td>doberman</td>\n",
       "    </tr>\n",
       "    <tr>\n",
       "      <th>3</th>\n",
       "      <td>00a366d4b4a9bbb6c8a63126697b7656</td>\n",
       "      <td>golden_retriever</td>\n",
       "    </tr>\n",
       "    <tr>\n",
       "      <th>4</th>\n",
       "      <td>0100f55e4f0fe28f2c0465d3fc4b9897</td>\n",
       "      <td>golden_retriever</td>\n",
       "    </tr>\n",
       "    <tr>\n",
       "      <th>...</th>\n",
       "      <td>...</td>\n",
       "      <td>...</td>\n",
       "    </tr>\n",
       "    <tr>\n",
       "      <th>836</th>\n",
       "      <td>fe50bac6c389d137ea01c9cfc7346ca8</td>\n",
       "      <td>scottish_deerhound</td>\n",
       "    </tr>\n",
       "    <tr>\n",
       "      <th>837</th>\n",
       "      <td>fe624532170510bd80627c0500bafc97</td>\n",
       "      <td>tibetan_mastiff</td>\n",
       "    </tr>\n",
       "    <tr>\n",
       "      <th>838</th>\n",
       "      <td>feb16cf86c9dac6d476e3c372ba5c279</td>\n",
       "      <td>pug</td>\n",
       "    </tr>\n",
       "    <tr>\n",
       "      <th>839</th>\n",
       "      <td>febcab8eb2da444bf83336cffec7eb92</td>\n",
       "      <td>golden_retriever</td>\n",
       "    </tr>\n",
       "    <tr>\n",
       "      <th>840</th>\n",
       "      <td>ff6f47aa8e181b6efa4d0be7b09b5628</td>\n",
       "      <td>golden_retriever</td>\n",
       "    </tr>\n",
       "  </tbody>\n",
       "</table>\n",
       "<p>841 rows × 2 columns</p>\n",
       "</div>"
      ],
      "text/plain": [
       "                                   id               breed\n",
       "0    0021f9ceb3235effd7fcde7f7538ed62    golden_retriever\n",
       "1    0042188c895a2f14ef64a918ed9c7b64  scottish_deerhound\n",
       "2    008b1271ed1addaccf93783b39deab45            doberman\n",
       "3    00a366d4b4a9bbb6c8a63126697b7656    golden_retriever\n",
       "4    0100f55e4f0fe28f2c0465d3fc4b9897    golden_retriever\n",
       "..                                ...                 ...\n",
       "836  fe50bac6c389d137ea01c9cfc7346ca8  scottish_deerhound\n",
       "837  fe624532170510bd80627c0500bafc97     tibetan_mastiff\n",
       "838  feb16cf86c9dac6d476e3c372ba5c279                 pug\n",
       "839  febcab8eb2da444bf83336cffec7eb92    golden_retriever\n",
       "840  ff6f47aa8e181b6efa4d0be7b09b5628    golden_retriever\n",
       "\n",
       "[841 rows x 2 columns]"
      ]
     },
     "execution_count": 4,
     "metadata": {},
     "output_type": "execute_result"
    }
   ],
   "source": [
    "train_df"
   ]
  },
  {
   "cell_type": "markdown",
   "metadata": {
    "papermill": {
     "duration": 0.01832,
     "end_time": "2021-03-17T19:31:42.378195",
     "exception": false,
     "start_time": "2021-03-17T19:31:42.359875",
     "status": "completed"
    },
    "tags": []
   },
   "source": [
    "### Numbers of images per category of dog breeds"
   ]
  },
  {
   "cell_type": "code",
   "execution_count": 5,
   "metadata": {
    "execution": {
     "iopub.execute_input": "2021-03-17T19:31:42.425354Z",
     "iopub.status.busy": "2021-03-17T19:31:42.424409Z",
     "iopub.status.idle": "2021-03-17T19:31:42.429841Z",
     "shell.execute_reply": "2021-03-17T19:31:42.429341Z"
    },
    "papermill": {
     "duration": 0.032466,
     "end_time": "2021-03-17T19:31:42.429985",
     "exception": false,
     "start_time": "2021-03-17T19:31:42.397519",
     "status": "completed"
    },
    "tags": []
   },
   "outputs": [
    {
     "data": {
      "text/plain": [
       "scottish_deerhound    126\n",
       "beagle                105\n",
       "pug                    94\n",
       "saint_bernard          84\n",
       "malamute               81\n",
       "doberman               74\n",
       "chihuahua              71\n",
       "french_bulldog         70\n",
       "tibetan_mastiff        69\n",
       "golden_retriever       67\n",
       "Name: breed, dtype: int64"
      ]
     },
     "execution_count": 5,
     "metadata": {},
     "output_type": "execute_result"
    }
   ],
   "source": [
    "train_df.breed.value_counts()"
   ]
  },
  {
   "cell_type": "markdown",
   "metadata": {
    "papermill": {
     "duration": 0.01962,
     "end_time": "2021-03-17T19:31:42.469512",
     "exception": false,
     "start_time": "2021-03-17T19:31:42.449892",
     "status": "completed"
    },
    "tags": []
   },
   "source": [
    "### Creating path for each image, for helper function to decode the image."
   ]
  },
  {
   "cell_type": "code",
   "execution_count": 6,
   "metadata": {
    "execution": {
     "iopub.execute_input": "2021-03-17T19:31:42.513796Z",
     "iopub.status.busy": "2021-03-17T19:31:42.513189Z",
     "iopub.status.idle": "2021-03-17T19:31:42.532071Z",
     "shell.execute_reply": "2021-03-17T19:31:42.531243Z"
    },
    "papermill": {
     "duration": 0.042988,
     "end_time": "2021-03-17T19:31:42.532206",
     "exception": false,
     "start_time": "2021-03-17T19:31:42.489218",
     "status": "completed"
    },
    "tags": []
   },
   "outputs": [],
   "source": [
    "train_paths = '../input/dog-breed-identification/train/' + train_df['id'] + '.jpg'"
   ]
  },
  {
   "cell_type": "markdown",
   "metadata": {
    "papermill": {
     "duration": 0.019647,
     "end_time": "2021-03-17T19:31:42.571735",
     "exception": false,
     "start_time": "2021-03-17T19:31:42.552088",
     "status": "completed"
    },
    "tags": []
   },
   "source": [
    "### Getting the lables into one-hot encoding format"
   ]
  },
  {
   "cell_type": "code",
   "execution_count": 7,
   "metadata": {
    "execution": {
     "iopub.execute_input": "2021-03-17T19:31:42.617270Z",
     "iopub.status.busy": "2021-03-17T19:31:42.616387Z",
     "iopub.status.idle": "2021-03-17T19:31:42.620993Z",
     "shell.execute_reply": "2021-03-17T19:31:42.620535Z"
    },
    "papermill": {
     "duration": 0.028986,
     "end_time": "2021-03-17T19:31:42.621120",
     "exception": false,
     "start_time": "2021-03-17T19:31:42.592134",
     "status": "completed"
    },
    "tags": []
   },
   "outputs": [],
   "source": [
    "labels = pd.get_dummies(train_df.breed).values"
   ]
  },
  {
   "cell_type": "code",
   "execution_count": 8,
   "metadata": {
    "execution": {
     "iopub.execute_input": "2021-03-17T19:31:42.665455Z",
     "iopub.status.busy": "2021-03-17T19:31:42.664841Z",
     "iopub.status.idle": "2021-03-17T19:31:42.668371Z",
     "shell.execute_reply": "2021-03-17T19:31:42.667880Z"
    },
    "papermill": {
     "duration": 0.028099,
     "end_time": "2021-03-17T19:31:42.668486",
     "exception": false,
     "start_time": "2021-03-17T19:31:42.640387",
     "status": "completed"
    },
    "tags": []
   },
   "outputs": [],
   "source": [
    "column_names = pd.get_dummies(train_df.breed).columns.to_list()"
   ]
  },
  {
   "cell_type": "markdown",
   "metadata": {
    "papermill": {
     "duration": 0.019645,
     "end_time": "2021-03-17T19:31:42.707893",
     "exception": false,
     "start_time": "2021-03-17T19:31:42.688248",
     "status": "completed"
    },
    "tags": []
   },
   "source": [
    "### Spliting the data into train and test purpose."
   ]
  },
  {
   "cell_type": "code",
   "execution_count": 9,
   "metadata": {
    "execution": {
     "iopub.execute_input": "2021-03-17T19:31:42.753852Z",
     "iopub.status.busy": "2021-03-17T19:31:42.753166Z",
     "iopub.status.idle": "2021-03-17T19:31:42.757292Z",
     "shell.execute_reply": "2021-03-17T19:31:42.756814Z"
    },
    "papermill": {
     "duration": 0.029709,
     "end_time": "2021-03-17T19:31:42.757439",
     "exception": false,
     "start_time": "2021-03-17T19:31:42.727730",
     "status": "completed"
    },
    "tags": []
   },
   "outputs": [],
   "source": [
    "train_path, valid_path, train_labels, valid_labels = train_test_split(train_paths, labels, test_size=0.3, random_state=42)"
   ]
  },
  {
   "cell_type": "markdown",
   "metadata": {
    "papermill": {
     "duration": 0.018821,
     "end_time": "2021-03-17T19:31:42.794908",
     "exception": false,
     "start_time": "2021-03-17T19:31:42.776087",
     "status": "completed"
    },
    "tags": []
   },
   "source": [
    "## Creating dataset with the tf.data API for faster computational speed"
   ]
  },
  {
   "cell_type": "code",
   "execution_count": 10,
   "metadata": {
    "execution": {
     "iopub.execute_input": "2021-03-17T19:31:45.442634Z",
     "iopub.status.busy": "2021-03-17T19:31:45.439513Z",
     "iopub.status.idle": "2021-03-17T19:31:45.459775Z",
     "shell.execute_reply": "2021-03-17T19:31:45.459301Z"
    },
    "papermill": {
     "duration": 2.645689,
     "end_time": "2021-03-17T19:31:45.459910",
     "exception": false,
     "start_time": "2021-03-17T19:31:42.814221",
     "status": "completed"
    },
    "tags": []
   },
   "outputs": [],
   "source": [
    "train_ds = tf.data.Dataset.from_tensor_slices((train_path, train_labels))\n",
    "valid_ds = tf.data.Dataset.from_tensor_slices((valid_path, valid_labels))"
   ]
  },
  {
   "cell_type": "markdown",
   "metadata": {
    "papermill": {
     "duration": 0.018838,
     "end_time": "2021-03-17T19:31:45.497941",
     "exception": false,
     "start_time": "2021-03-17T19:31:45.479103",
     "status": "completed"
    },
    "tags": []
   },
   "source": [
    "### Helper function that will that the path and return tf.float32 dtype tensors of the image."
   ]
  },
  {
   "cell_type": "code",
   "execution_count": 11,
   "metadata": {
    "execution": {
     "iopub.execute_input": "2021-03-17T19:31:45.542629Z",
     "iopub.status.busy": "2021-03-17T19:31:45.541977Z",
     "iopub.status.idle": "2021-03-17T19:31:45.546438Z",
     "shell.execute_reply": "2021-03-17T19:31:45.546018Z"
    },
    "papermill": {
     "duration": 0.028916,
     "end_time": "2021-03-17T19:31:45.546579",
     "exception": false,
     "start_time": "2021-03-17T19:31:45.517663",
     "status": "completed"
    },
    "tags": []
   },
   "outputs": [],
   "source": [
    "def decode_train_data(image_path, label):\n",
    "    \n",
    "    img = tf.io.read_file(image_path)\n",
    "    img = tf.io.decode_jpeg(img, channels=3)\n",
    "    img = tf.cast(img, tf.float32) / 255.0\n",
    "    img = tf.image.resize(img,[312,312])\n",
    "    \n",
    "    return img, label"
   ]
  },
  {
   "cell_type": "markdown",
   "metadata": {
    "papermill": {
     "duration": 0.019299,
     "end_time": "2021-03-17T19:31:45.585442",
     "exception": false,
     "start_time": "2021-03-17T19:31:45.566143",
     "status": "completed"
    },
    "tags": []
   },
   "source": [
    "### Mapping the helper function for decoding with num_parallel_calls=AUTOTUNE to do multiple operations parallelly. "
   ]
  },
  {
   "cell_type": "code",
   "execution_count": 12,
   "metadata": {
    "execution": {
     "iopub.execute_input": "2021-03-17T19:31:45.630909Z",
     "iopub.status.busy": "2021-03-17T19:31:45.630329Z",
     "iopub.status.idle": "2021-03-17T19:31:45.736777Z",
     "shell.execute_reply": "2021-03-17T19:31:45.736201Z"
    },
    "papermill": {
     "duration": 0.132203,
     "end_time": "2021-03-17T19:31:45.736919",
     "exception": false,
     "start_time": "2021-03-17T19:31:45.604716",
     "status": "completed"
    },
    "tags": []
   },
   "outputs": [],
   "source": [
    "train_ds = train_ds.map(decode_train_data, num_parallel_calls=tf.data.experimental.AUTOTUNE)\n",
    "valid_ds = valid_ds.map(decode_train_data, num_parallel_calls=tf.data.experimental.AUTOTUNE)"
   ]
  },
  {
   "cell_type": "markdown",
   "metadata": {
    "papermill": {
     "duration": 0.02069,
     "end_time": "2021-03-17T19:31:45.778641",
     "exception": false,
     "start_time": "2021-03-17T19:31:45.757951",
     "status": "completed"
    },
    "tags": []
   },
   "source": [
    "### Data augmentation is really helpful when we are dealing with low number of train samples. It creates more samples from already exiting samples by tweaking little information in it."
   ]
  },
  {
   "cell_type": "code",
   "execution_count": 13,
   "metadata": {
    "execution": {
     "iopub.execute_input": "2021-03-17T19:31:45.826660Z",
     "iopub.status.busy": "2021-03-17T19:31:45.825912Z",
     "iopub.status.idle": "2021-03-17T19:31:45.829642Z",
     "shell.execute_reply": "2021-03-17T19:31:45.829099Z"
    },
    "papermill": {
     "duration": 0.03027,
     "end_time": "2021-03-17T19:31:45.829781",
     "exception": false,
     "start_time": "2021-03-17T19:31:45.799511",
     "status": "completed"
    },
    "tags": []
   },
   "outputs": [],
   "source": [
    "def augment(img, label):\n",
    "    img = tf.image.random_flip_left_right(img)\n",
    "    img = tf.image.random_flip_up_down(img)\n",
    "    return img, label"
   ]
  },
  {
   "cell_type": "markdown",
   "metadata": {
    "papermill": {
     "duration": 0.020533,
     "end_time": "2021-03-17T19:31:45.871151",
     "exception": false,
     "start_time": "2021-03-17T19:31:45.850618",
     "status": "completed"
    },
    "tags": []
   },
   "source": [
    "### Also a helper fuction which has many utilities like caching for faster data retrival, batching the train samples in a set of 16, shuffling the data for true randomness and prefectching the data for the model, so the delivery of next set of sample batch wouldn't become the bottleneck in the architecture."
   ]
  },
  {
   "cell_type": "code",
   "execution_count": 14,
   "metadata": {
    "execution": {
     "iopub.execute_input": "2021-03-17T19:31:45.918215Z",
     "iopub.status.busy": "2021-03-17T19:31:45.917511Z",
     "iopub.status.idle": "2021-03-17T19:31:45.921856Z",
     "shell.execute_reply": "2021-03-17T19:31:45.921273Z"
    },
    "papermill": {
     "duration": 0.030175,
     "end_time": "2021-03-17T19:31:45.922077",
     "exception": false,
     "start_time": "2021-03-17T19:31:45.891902",
     "status": "completed"
    },
    "tags": []
   },
   "outputs": [],
   "source": [
    "def configure_for_performance(ds, batch_size = 16):\n",
    "    \n",
    "    ds = ds.cache('/kaggle/dump.tfcache')\n",
    "    ds = ds.map(augment, num_parallel_calls=tf.data.experimental.AUTOTUNE)\n",
    "    ds = ds.repeat()\n",
    "    ds = ds.shuffle(buffer_size=25)\n",
    "    ds = ds.batch(batch_size)\n",
    "    ds = ds.prefetch(buffer_size=tf.data.experimental.AUTOTUNE)\n",
    "    return ds"
   ]
  },
  {
   "cell_type": "code",
   "execution_count": 15,
   "metadata": {
    "execution": {
     "iopub.execute_input": "2021-03-17T19:31:45.968295Z",
     "iopub.status.busy": "2021-03-17T19:31:45.967782Z",
     "iopub.status.idle": "2021-03-17T19:31:46.046213Z",
     "shell.execute_reply": "2021-03-17T19:31:46.045445Z"
    },
    "papermill": {
     "duration": 0.102636,
     "end_time": "2021-03-17T19:31:46.046363",
     "exception": false,
     "start_time": "2021-03-17T19:31:45.943727",
     "status": "completed"
    },
    "tags": []
   },
   "outputs": [],
   "source": [
    "train_ds_batch = configure_for_performance(train_ds)\n",
    "valid_ds_batch = valid_ds.batch(32)"
   ]
  },
  {
   "cell_type": "markdown",
   "metadata": {
    "papermill": {
     "duration": 0.021167,
     "end_time": "2021-03-17T19:31:46.089315",
     "exception": false,
     "start_time": "2021-03-17T19:31:46.068148",
     "status": "completed"
    },
    "tags": []
   },
   "source": [
    "### First we instantiates the ResNet50 architecture as base model with 'ImageNet' weights as default and we set layers of the model as trainable"
   ]
  },
  {
   "cell_type": "code",
   "execution_count": 16,
   "metadata": {
    "execution": {
     "iopub.execute_input": "2021-03-17T19:31:46.138734Z",
     "iopub.status.busy": "2021-03-17T19:31:46.138118Z",
     "iopub.status.idle": "2021-03-17T19:31:48.485230Z",
     "shell.execute_reply": "2021-03-17T19:31:48.484102Z"
    },
    "papermill": {
     "duration": 2.375183,
     "end_time": "2021-03-17T19:31:48.485386",
     "exception": false,
     "start_time": "2021-03-17T19:31:46.110203",
     "status": "completed"
    },
    "tags": []
   },
   "outputs": [
    {
     "name": "stdout",
     "output_type": "stream",
     "text": [
      "Downloading data from https://storage.googleapis.com/tensorflow/keras-applications/resnet/resnet50_weights_tf_dim_ordering_tf_kernels_notop.h5\n",
      "94773248/94765736 [==============================] - 1s 0us/step\n"
     ]
    }
   ],
   "source": [
    "base_model = tf.keras.applications.ResNet50(include_top=False,weights=\"imagenet\")\n",
    "for layers in base_model.layers:\n",
    "    layers.trainable=True"
   ]
  },
  {
   "cell_type": "markdown",
   "metadata": {
    "papermill": {
     "duration": 0.023283,
     "end_time": "2021-03-17T19:31:48.534090",
     "exception": false,
     "start_time": "2021-03-17T19:31:48.510807",
     "status": "completed"
    },
    "tags": []
   },
   "source": [
    "### We are creating our transfer learning model with base layer as the ResNet50 layer. We added the data augmentation in the model as it will happen parallelly in CPU while the CNN will train in GPU. While using the ResNet50, Keras expects a specific kind of input preprocessing, we have to pass the inputs through the Preprocess_input for better processing. Then it passes through few other layers and finally at last dense layers, we set the no. of unique labels for prediction with softmax activation\n"
   ]
  },
  {
   "cell_type": "markdown",
   "metadata": {
    "papermill": {
     "duration": 0.023241,
     "end_time": "2021-03-17T19:31:48.581727",
     "exception": false,
     "start_time": "2021-03-17T19:31:48.558486",
     "status": "completed"
    },
    "tags": []
   },
   "source": [
    "### After defining the model, we add optimizers, loss funtion and metrics for evaluation fo the model. Here we used Adam with a learning rate of 3e-4 and loss function as Categorical_crossentropy as we have categorical labels."
   ]
  },
  {
   "cell_type": "code",
   "execution_count": 17,
   "metadata": {
    "execution": {
     "iopub.execute_input": "2021-03-17T19:31:48.641092Z",
     "iopub.status.busy": "2021-03-17T19:31:48.639185Z",
     "iopub.status.idle": "2021-03-17T19:31:48.641757Z",
     "shell.execute_reply": "2021-03-17T19:31:48.642198Z"
    },
    "papermill": {
     "duration": 0.036632,
     "end_time": "2021-03-17T19:31:48.642344",
     "exception": false,
     "start_time": "2021-03-17T19:31:48.605712",
     "status": "completed"
    },
    "tags": []
   },
   "outputs": [],
   "source": [
    "def build_model():\n",
    "    inputs = tf.keras.layers.Input(shape=(312, 312, 3))\n",
    "    preprocess = preprocess_input(inputs)\n",
    "    outputs_resnet = base_model(preprocess)\n",
    "    global_avg_pooling = tf.keras.layers.GlobalAveragePooling2D()(outputs_resnet)\n",
    "    dense_1= tf.keras.layers.Dense(256, kernel_regularizer = 'l2')(global_avg_pooling)\n",
    "    bn_1 = tf.keras.layers.BatchNormalization()(dense_1)\n",
    "    activation = tf.keras.layers.Activation('relu')(bn_1)\n",
    "    dropout = tf.keras.layers.Dropout(0.35)(activation)\n",
    "    dense_2 = tf.keras.layers.Dense(10, activation='softmax')(dropout)\n",
    "    \n",
    "    \n",
    "    model = tf.keras.Model(inputs, dense_2)\n",
    "    \n",
    "    model.compile(\n",
    "        optimizer=tf.keras.optimizers.Adam(lr = 3e-4),\n",
    "        loss='categorical_crossentropy',\n",
    "        metrics='acc'\n",
    "    )\n",
    "    \n",
    "    return model"
   ]
  },
  {
   "cell_type": "markdown",
   "metadata": {
    "papermill": {
     "duration": 0.024069,
     "end_time": "2021-03-17T19:31:48.689809",
     "exception": false,
     "start_time": "2021-03-17T19:31:48.665740",
     "status": "completed"
    },
    "tags": []
   },
   "source": [
    "### Initialize the model and check it Summary."
   ]
  },
  {
   "cell_type": "code",
   "execution_count": 18,
   "metadata": {
    "execution": {
     "iopub.execute_input": "2021-03-17T19:31:48.747028Z",
     "iopub.status.busy": "2021-03-17T19:31:48.745728Z",
     "iopub.status.idle": "2021-03-17T19:31:49.365245Z",
     "shell.execute_reply": "2021-03-17T19:31:49.366268Z"
    },
    "papermill": {
     "duration": 0.6518,
     "end_time": "2021-03-17T19:31:49.366444",
     "exception": false,
     "start_time": "2021-03-17T19:31:48.714644",
     "status": "completed"
    },
    "tags": []
   },
   "outputs": [
    {
     "name": "stdout",
     "output_type": "stream",
     "text": [
      "Model: \"model\"\n",
      "_________________________________________________________________\n",
      "Layer (type)                 Output Shape              Param #   \n",
      "=================================================================\n",
      "input_2 (InputLayer)         [(None, 312, 312, 3)]     0         \n",
      "_________________________________________________________________\n",
      "tf.__operators__.getitem (Sl (None, 312, 312, 3)       0         \n",
      "_________________________________________________________________\n",
      "tf.nn.bias_add (TFOpLambda)  (None, 312, 312, 3)       0         \n",
      "_________________________________________________________________\n",
      "resnet50 (Functional)        (None, None, None, 2048)  23587712  \n",
      "_________________________________________________________________\n",
      "global_average_pooling2d (Gl (None, 2048)              0         \n",
      "_________________________________________________________________\n",
      "dense (Dense)                (None, 256)               524544    \n",
      "_________________________________________________________________\n",
      "batch_normalization (BatchNo (None, 256)               1024      \n",
      "_________________________________________________________________\n",
      "activation (Activation)      (None, 256)               0         \n",
      "_________________________________________________________________\n",
      "dropout (Dropout)            (None, 256)               0         \n",
      "_________________________________________________________________\n",
      "dense_1 (Dense)              (None, 10)                2570      \n",
      "=================================================================\n",
      "Total params: 24,115,850\n",
      "Trainable params: 24,062,218\n",
      "Non-trainable params: 53,632\n",
      "_________________________________________________________________\n"
     ]
    }
   ],
   "source": [
    "model = build_model()\n",
    "\n",
    "model.summary()"
   ]
  },
  {
   "cell_type": "markdown",
   "metadata": {
    "papermill": {
     "duration": 0.023775,
     "end_time": "2021-03-17T19:31:49.414383",
     "exception": false,
     "start_time": "2021-03-17T19:31:49.390608",
     "status": "completed"
    },
    "tags": []
   },
   "source": [
    "### Here we define callbacks for our model. This include saving the Modelcheckpoint, which monitor the validation loss to reduce the learning rate if it sees that the model is not improving for 4 epochs and also saves the model with lowest validation loss."
   ]
  },
  {
   "cell_type": "code",
   "execution_count": 19,
   "metadata": {
    "execution": {
     "iopub.execute_input": "2021-03-17T19:31:49.468803Z",
     "iopub.status.busy": "2021-03-17T19:31:49.467877Z",
     "iopub.status.idle": "2021-03-17T19:31:49.471095Z",
     "shell.execute_reply": "2021-03-17T19:31:49.470517Z"
    },
    "papermill": {
     "duration": 0.032094,
     "end_time": "2021-03-17T19:31:49.471220",
     "exception": false,
     "start_time": "2021-03-17T19:31:49.439126",
     "status": "completed"
    },
    "tags": []
   },
   "outputs": [],
   "source": [
    "checkpoint = tf.keras.callbacks.ModelCheckpoint(\n",
    "    './model.h5', save_best_only=True, monitor='val_loss', mode='min')\n",
    "lr_reducer = tf.keras.callbacks.ReduceLROnPlateau(\n",
    "    monitor=\"val_loss\", patience=4, min_lr=1e-5, mode='min')"
   ]
  },
  {
   "cell_type": "markdown",
   "metadata": {
    "papermill": {
     "duration": 0.023649,
     "end_time": "2021-03-17T19:31:49.519564",
     "exception": false,
     "start_time": "2021-03-17T19:31:49.495915",
     "status": "completed"
    },
    "tags": []
   },
   "source": [
    "### Here we set the epochs and steps_per_epoch(no. of samples/batch_size) and then start traing our model."
   ]
  },
  {
   "cell_type": "code",
   "execution_count": 20,
   "metadata": {
    "execution": {
     "iopub.execute_input": "2021-03-17T19:31:49.573622Z",
     "iopub.status.busy": "2021-03-17T19:31:49.572894Z",
     "iopub.status.idle": "2021-03-17T19:39:12.554801Z",
     "shell.execute_reply": "2021-03-17T19:39:12.555238Z"
    },
    "papermill": {
     "duration": 443.012355,
     "end_time": "2021-03-17T19:39:12.555414",
     "exception": false,
     "start_time": "2021-03-17T19:31:49.543059",
     "status": "completed"
    },
    "tags": []
   },
   "outputs": [
    {
     "name": "stdout",
     "output_type": "stream",
     "text": [
      "Epoch 1/40\n",
      "52/52 [==============================] - 23s 263ms/step - loss: 6.8831 - acc: 0.2553 - val_loss: 6.8576 - val_acc: 0.0988\n",
      "Epoch 2/40\n",
      "52/52 [==============================] - 11s 207ms/step - loss: 5.7045 - acc: 0.5376 - val_loss: 7.1571 - val_acc: 0.1225\n",
      "Epoch 3/40\n",
      "52/52 [==============================] - 10s 200ms/step - loss: 4.7955 - acc: 0.7353 - val_loss: 6.4535 - val_acc: 0.1581\n",
      "Epoch 4/40\n",
      "52/52 [==============================] - 11s 204ms/step - loss: 4.1130 - acc: 0.8523 - val_loss: 5.9481 - val_acc: 0.0711\n",
      "Epoch 5/40\n",
      "52/52 [==============================] - 10s 198ms/step - loss: 3.8452 - acc: 0.8140 - val_loss: 6.8700 - val_acc: 0.0672\n",
      "Epoch 6/40\n",
      "52/52 [==============================] - 10s 202ms/step - loss: 3.3996 - acc: 0.8689 - val_loss: 5.6392 - val_acc: 0.0988\n",
      "Epoch 7/40\n",
      "52/52 [==============================] - 10s 200ms/step - loss: 2.8863 - acc: 0.9258 - val_loss: 5.8699 - val_acc: 0.1067\n",
      "Epoch 8/40\n",
      "52/52 [==============================] - 11s 203ms/step - loss: 2.5914 - acc: 0.9288 - val_loss: 5.9616 - val_acc: 0.1581\n",
      "Epoch 9/40\n",
      "52/52 [==============================] - 10s 200ms/step - loss: 2.2751 - acc: 0.9458 - val_loss: 5.0725 - val_acc: 0.1581\n",
      "Epoch 10/40\n",
      "52/52 [==============================] - 11s 204ms/step - loss: 2.0058 - acc: 0.9507 - val_loss: 16.6405 - val_acc: 0.1225\n",
      "Epoch 11/40\n",
      "52/52 [==============================] - 10s 201ms/step - loss: 1.8217 - acc: 0.9435 - val_loss: 5.2288 - val_acc: 0.0791\n",
      "Epoch 12/40\n",
      "52/52 [==============================] - 10s 197ms/step - loss: 1.5646 - acc: 0.9633 - val_loss: 5.9133 - val_acc: 0.1581\n",
      "Epoch 13/40\n",
      "52/52 [==============================] - 10s 200ms/step - loss: 1.3792 - acc: 0.9568 - val_loss: 4.6359 - val_acc: 0.1344\n",
      "Epoch 14/40\n",
      "52/52 [==============================] - 10s 195ms/step - loss: 1.1884 - acc: 0.9699 - val_loss: 7.7664 - val_acc: 0.1225\n",
      "Epoch 15/40\n",
      "52/52 [==============================] - 10s 197ms/step - loss: 1.1033 - acc: 0.9574 - val_loss: 5.2973 - val_acc: 0.1028\n",
      "Epoch 16/40\n",
      "52/52 [==============================] - 10s 202ms/step - loss: 0.9069 - acc: 0.9786 - val_loss: 3.8468 - val_acc: 0.1581\n",
      "Epoch 17/40\n",
      "52/52 [==============================] - 10s 197ms/step - loss: 0.8800 - acc: 0.9420 - val_loss: 8.5672 - val_acc: 0.1225\n",
      "Epoch 18/40\n",
      "52/52 [==============================] - 10s 196ms/step - loss: 0.8002 - acc: 0.9449 - val_loss: 10.8424 - val_acc: 0.0672\n",
      "Epoch 19/40\n",
      "52/52 [==============================] - 10s 200ms/step - loss: 0.6840 - acc: 0.9471 - val_loss: 15.2488 - val_acc: 0.1225\n",
      "Epoch 20/40\n",
      "52/52 [==============================] - 10s 197ms/step - loss: 0.6669 - acc: 0.9397 - val_loss: 6.0496 - val_acc: 0.1225\n",
      "Epoch 21/40\n",
      "52/52 [==============================] - 10s 197ms/step - loss: 0.5603 - acc: 0.9620 - val_loss: 4.5566 - val_acc: 0.1225\n",
      "Epoch 22/40\n",
      "52/52 [==============================] - 10s 202ms/step - loss: 0.5365 - acc: 0.9749 - val_loss: 4.2988 - val_acc: 0.1225\n",
      "Epoch 23/40\n",
      "52/52 [==============================] - 10s 198ms/step - loss: 0.4712 - acc: 0.9865 - val_loss: 3.5801 - val_acc: 0.1225\n",
      "Epoch 24/40\n",
      "52/52 [==============================] - 10s 196ms/step - loss: 0.4546 - acc: 0.9982 - val_loss: 4.2077 - val_acc: 0.1067\n",
      "Epoch 25/40\n",
      "52/52 [==============================] - 10s 202ms/step - loss: 0.4534 - acc: 0.9915 - val_loss: 2.6681 - val_acc: 0.2925\n",
      "Epoch 26/40\n",
      "52/52 [==============================] - 10s 198ms/step - loss: 0.4399 - acc: 0.9968 - val_loss: 2.5619 - val_acc: 0.3478\n",
      "Epoch 27/40\n",
      "52/52 [==============================] - 10s 196ms/step - loss: 0.4269 - acc: 0.9972 - val_loss: 2.5063 - val_acc: 0.4229\n",
      "Epoch 28/40\n",
      "52/52 [==============================] - 10s 199ms/step - loss: 0.4151 - acc: 0.9983 - val_loss: 1.2237 - val_acc: 0.7470\n",
      "Epoch 29/40\n",
      "52/52 [==============================] - 10s 196ms/step - loss: 0.4034 - acc: 0.9983 - val_loss: 2.1622 - val_acc: 0.4150\n",
      "Epoch 30/40\n",
      "52/52 [==============================] - 10s 196ms/step - loss: 0.3911 - acc: 0.9997 - val_loss: 4.8526 - val_acc: 0.1502\n",
      "Epoch 31/40\n",
      "52/52 [==============================] - 10s 200ms/step - loss: 0.3823 - acc: 1.0000 - val_loss: 10.1746 - val_acc: 0.0791\n",
      "Epoch 32/40\n",
      "52/52 [==============================] - 10s 197ms/step - loss: 0.3771 - acc: 0.9997 - val_loss: 4.7541 - val_acc: 0.1146\n",
      "Epoch 33/40\n",
      "52/52 [==============================] - 10s 198ms/step - loss: 0.3661 - acc: 1.0000 - val_loss: 4.1898 - val_acc: 0.2016\n",
      "Epoch 34/40\n",
      "52/52 [==============================] - 10s 200ms/step - loss: 0.3671 - acc: 1.0000 - val_loss: 2.5771 - val_acc: 0.4545\n",
      "Epoch 35/40\n",
      "52/52 [==============================] - 10s 200ms/step - loss: 0.3598 - acc: 0.9999 - val_loss: 1.3900 - val_acc: 0.7036\n",
      "Epoch 36/40\n",
      "52/52 [==============================] - 10s 197ms/step - loss: 0.3551 - acc: 1.0000 - val_loss: 1.2918 - val_acc: 0.7352\n",
      "Epoch 37/40\n",
      "52/52 [==============================] - 11s 204ms/step - loss: 0.3563 - acc: 1.0000 - val_loss: 1.1843 - val_acc: 0.8063\n",
      "Epoch 38/40\n",
      "52/52 [==============================] - 10s 199ms/step - loss: 0.3500 - acc: 1.0000 - val_loss: 1.0948 - val_acc: 0.8300\n",
      "Epoch 39/40\n",
      "52/52 [==============================] - 10s 200ms/step - loss: 0.3495 - acc: 0.9995 - val_loss: 1.6941 - val_acc: 0.6364\n",
      "Epoch 40/40\n",
      "52/52 [==============================] - 10s 200ms/step - loss: 0.3438 - acc: 1.0000 - val_loss: 1.2545 - val_acc: 0.7668\n"
     ]
    }
   ],
   "source": [
    "steps_per_epoch = len(train_paths) // 16\n",
    "epochs = 40\n",
    "history = model.fit(\n",
    "                train_ds_batch, \n",
    "                validation_data = valid_ds_batch, \n",
    "                epochs = epochs,\n",
    "                callbacks=[checkpoint, lr_reducer],\n",
    "                steps_per_epoch = steps_per_epoch\n",
    ")"
   ]
  },
  {
   "cell_type": "markdown",
   "metadata": {
    "papermill": {
     "duration": 0.678208,
     "end_time": "2021-03-17T19:39:13.854794",
     "exception": false,
     "start_time": "2021-03-17T19:39:13.176586",
     "status": "completed"
    },
    "tags": []
   },
   "source": [
    "### Graph plot of Accurarcy and loss of the model during the training."
   ]
  },
  {
   "cell_type": "code",
   "execution_count": 21,
   "metadata": {
    "execution": {
     "iopub.execute_input": "2021-03-17T19:39:15.456491Z",
     "iopub.status.busy": "2021-03-17T19:39:15.455557Z",
     "iopub.status.idle": "2021-03-17T19:39:15.768327Z",
     "shell.execute_reply": "2021-03-17T19:39:15.767892Z"
    },
    "papermill": {
     "duration": 0.925045,
     "end_time": "2021-03-17T19:39:15.768474",
     "exception": false,
     "start_time": "2021-03-17T19:39:14.843429",
     "status": "completed"
    },
    "tags": []
   },
   "outputs": [
    {
     "data": {
      "image/png": "[encoded data removed]",
      "text/plain": [
       "<Figure size 576x576 with 2 Axes>"
      ]
     },
     "metadata": {
      "needs_background": "light"
     },
     "output_type": "display_data"
    }
   ],
   "source": [
    "acc = history.history['acc']\n",
    "val_acc = history.history['val_acc']\n",
    "\n",
    "loss = history.history['loss']\n",
    "val_loss = history.history['val_loss']\n",
    "\n",
    "epochs_range = range(epochs)\n",
    "\n",
    "plt.figure(figsize=(8, 8))\n",
    "plt.subplot(1, 2, 1)\n",
    "plt.plot(epochs_range, acc, label='Training Accuracy')\n",
    "plt.plot(epochs_range, val_acc, label='Validation Accuracy')\n",
    "plt.legend(loc='lower right')\n",
    "plt.title('Training and Validation Accuracy')\n",
    "\n",
    "plt.subplot(1, 2, 2)\n",
    "plt.plot(epochs_range, loss, label='Training Loss')\n",
    "plt.plot(epochs_range, val_loss, label='Validation Loss')\n",
    "plt.legend(loc='upper right')\n",
    "plt.title('Training and Validation Loss')\n",
    "plt.show()"
   ]
  },
  {
   "cell_type": "code",
   "execution_count": null,
   "metadata": {
    "papermill": {
     "duration": 0.585433,
     "end_time": "2021-03-17T19:39:16.933775",
     "exception": false,
     "start_time": "2021-03-17T19:39:16.348342",
     "status": "completed"
    },
    "tags": []
   },
   "outputs": [],
   "source": []
  }
 ],
 "metadata": {
  "kernelspec": {
   "display_name": "Python 3",
   "language": "python",
   "name": "python3"
  },
  "language_info": {
   "codemirror_mode": {
    "name": "ipython",
    "version": 3
   },
   "file_extension": ".py",
   "mimetype": "text/x-python",
   "name": "python",
   "nbconvert_exporter": "python",
   "pygments_lexer": "ipython3",
   "version": "3.7.9"
  },
  "papermill": {
   "default_parameters": {},
   "duration": 469.99111,
   "end_time": "2021-03-17T19:39:20.479347",
   "environment_variables": {},
   "exception": null,
   "input_path": "__notebook__.ipynb",
   "output_path": "__notebook__.ipynb",
   "parameters": {},
   "start_time": "2021-03-17T19:31:30.488237",
   "version": "2.2.2"
  }
 },
 "nbformat": 4,
 "nbformat_minor": 4
}
